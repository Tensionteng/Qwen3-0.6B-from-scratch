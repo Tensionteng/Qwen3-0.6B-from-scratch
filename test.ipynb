{
 "cells": [
  {
   "cell_type": "code",
   "execution_count": 1,
   "id": "92d998be",
   "metadata": {},
   "outputs": [
    {
     "data": {
      "application/vnd.jupyter.widget-view+json": {
       "model_id": "eed9e15d23e4407f92e75dd66ee74236",
       "version_major": 2,
       "version_minor": 0
      },
      "text/plain": [
       "Map (num_proc=32):   0%|          | 0/1413103 [00:00<?, ? examples/s]"
      ]
     },
     "metadata": {},
     "output_type": "display_data"
    }
   ],
   "source": [
    "from transformers import AutoModelForCausalLM, AutoTokenizer, DataCollatorForLanguageModeling\n",
    "\n",
    "tokenizer = AutoTokenizer.from_pretrained(\"./model\")\n",
    "\n",
    "from utils.preprocess import prepare_pretrain_dataset\n",
    "\n",
    "train_ds = prepare_pretrain_dataset(\n",
    "        data_path=\"datasets/pretrain_hq.jsonl\",\n",
    "        tokenizer=tokenizer,\n",
    "        max_length=512,\n",
    "        cache_dir=\"./datasets\",\n",
    "        num_proc=32\n",
    "    )\n",
    "\n",
    "\n",
    "data_collator = DataCollatorForLanguageModeling(tokenizer=tokenizer, mlm=False)"
   ]
  },
  {
   "cell_type": "code",
   "execution_count": 17,
   "id": "c6a1bbbb",
   "metadata": {},
   "outputs": [
    {
     "data": {
      "text/plain": [
       "0.0"
      ]
     },
     "execution_count": 17,
     "metadata": {},
     "output_type": "execute_result"
    }
   ],
   "source": [
    "import json\n",
    "from model.config import MiniMindConfig\n",
    "\n",
    "with open(\"configs/model_config.json\", \"r\") as f:\n",
    "    model_config = json.load(f)\n",
    "    config = MiniMindConfig(**model_config)\n",
    "\n",
    "config.dropout"
   ]
  },
  {
   "cell_type": "code",
   "execution_count": 8,
   "id": "8cc3c68a",
   "metadata": {},
   "outputs": [
    {
     "name": "stdout",
     "output_type": "stream",
     "text": [
      "[2025-06-25 04:57:38,173] [INFO] [real_accelerator.py:254:get_accelerator] Setting ds_accelerator to cuda (auto detect)\n"
     ]
    },
    {
     "name": "stderr",
     "output_type": "stream",
     "text": [
      "/usr/bin/ld: cannot find -laio: No such file or directory\n",
      "collect2: error: ld returned 1 exit status\n",
      "/usr/bin/ld: cannot find -laio: No such file or directory\n",
      "collect2: error: ld returned 1 exit status\n"
     ]
    },
    {
     "name": "stdout",
     "output_type": "stream",
     "text": [
      "[2025-06-25 04:57:39,868] [INFO] [logging.py:107:log_dist] [Rank -1] [TorchCheckpointEngine] Initialized with serialization = False\n"
     ]
    },
    {
     "name": "stderr",
     "output_type": "stream",
     "text": [
      "Gradient accumulation steps mismatch: GradientAccumulationPlugin has 1, DeepSpeed config has 8. Using DeepSpeed's value.\n"
     ]
    },
    {
     "ename": "ValueError",
     "evalue": "Please correct the following DeepSpeed config values that mismatch TrainingArguments values:\n- ds train_micro_batch_size_per_gpu=2 vs hf per_device_train_batch_size=1\n- ds optimizer.params.betas=[0.9, 0.95] vs hf adam_beta1+adam_beta2=[0.9, 0.999]\n- ds optimizer.params.weight_decay=0.1 vs hf weight_decay=0.0\n- ds scheduler.params.warmup_num_steps=0 vs hf warmup_steps=884\nThe easiest method is to set these DeepSpeed config values to 'auto'.",
     "output_type": "error",
     "traceback": [
      "\u001b[31m---------------------------------------------------------------------------\u001b[39m",
      "\u001b[31mValueError\u001b[39m                                Traceback (most recent call last)",
      "\u001b[36mCell\u001b[39m\u001b[36m \u001b[39m\u001b[32mIn[8]\u001b[39m\u001b[32m, line 46\u001b[39m\n\u001b[32m     36\u001b[39m \u001b[38;5;66;03m# --- 5. 创建并运行 Trainer ---\u001b[39;00m\n\u001b[32m     37\u001b[39m trainer = Trainer(\n\u001b[32m     38\u001b[39m     model=model,\n\u001b[32m     39\u001b[39m     args=training_args,\n\u001b[32m   (...)\u001b[39m\u001b[32m     43\u001b[39m     callbacks=[swanlab_callback],\n\u001b[32m     44\u001b[39m )\n\u001b[32m---> \u001b[39m\u001b[32m46\u001b[39m \u001b[43mtrainer\u001b[49m\u001b[43m.\u001b[49m\u001b[43mtrain\u001b[49m\u001b[43m(\u001b[49m\u001b[43m)\u001b[49m\n\u001b[32m     48\u001b[39m \u001b[38;5;66;03m# --- 6. 保存最终模型 ---\u001b[39;00m\n\u001b[32m     49\u001b[39m trainer.save_model(\u001b[33m\"\u001b[39m\u001b[33m../output/qwen3_0.6B_final\u001b[39m\u001b[33m\"\u001b[39m)\n",
      "\u001b[36mFile \u001b[39m\u001b[32m~/code/Qwen3-0.6B-from-scratch/.venv/lib/python3.12/site-packages/transformers/trainer.py:2240\u001b[39m, in \u001b[36mTrainer.train\u001b[39m\u001b[34m(self, resume_from_checkpoint, trial, ignore_keys_for_eval, **kwargs)\u001b[39m\n\u001b[32m   2238\u001b[39m         hf_hub_utils.enable_progress_bars()\n\u001b[32m   2239\u001b[39m \u001b[38;5;28;01melse\u001b[39;00m:\n\u001b[32m-> \u001b[39m\u001b[32m2240\u001b[39m     \u001b[38;5;28;01mreturn\u001b[39;00m \u001b[43minner_training_loop\u001b[49m\u001b[43m(\u001b[49m\n\u001b[32m   2241\u001b[39m \u001b[43m        \u001b[49m\u001b[43margs\u001b[49m\u001b[43m=\u001b[49m\u001b[43margs\u001b[49m\u001b[43m,\u001b[49m\n\u001b[32m   2242\u001b[39m \u001b[43m        \u001b[49m\u001b[43mresume_from_checkpoint\u001b[49m\u001b[43m=\u001b[49m\u001b[43mresume_from_checkpoint\u001b[49m\u001b[43m,\u001b[49m\n\u001b[32m   2243\u001b[39m \u001b[43m        \u001b[49m\u001b[43mtrial\u001b[49m\u001b[43m=\u001b[49m\u001b[43mtrial\u001b[49m\u001b[43m,\u001b[49m\n\u001b[32m   2244\u001b[39m \u001b[43m        \u001b[49m\u001b[43mignore_keys_for_eval\u001b[49m\u001b[43m=\u001b[49m\u001b[43mignore_keys_for_eval\u001b[49m\u001b[43m,\u001b[49m\n\u001b[32m   2245\u001b[39m \u001b[43m    \u001b[49m\u001b[43m)\u001b[49m\n",
      "\u001b[36mFile \u001b[39m\u001b[32m~/code/Qwen3-0.6B-from-scratch/.venv/lib/python3.12/site-packages/transformers/trainer.py:2322\u001b[39m, in \u001b[36mTrainer._inner_training_loop\u001b[39m\u001b[34m(self, batch_size, args, resume_from_checkpoint, trial, ignore_keys_for_eval)\u001b[39m\n\u001b[32m   2319\u001b[39m     \u001b[38;5;28mself\u001b[39m._created_lr_scheduler = \u001b[38;5;28;01mFalse\u001b[39;00m\n\u001b[32m   2321\u001b[39m \u001b[38;5;28;01mif\u001b[39;00m \u001b[38;5;28mself\u001b[39m.is_deepspeed_enabled:\n\u001b[32m-> \u001b[39m\u001b[32m2322\u001b[39m     \u001b[38;5;28mself\u001b[39m.optimizer, \u001b[38;5;28mself\u001b[39m.lr_scheduler = \u001b[43mdeepspeed_init\u001b[49m\u001b[43m(\u001b[49m\u001b[38;5;28;43mself\u001b[39;49m\u001b[43m,\u001b[49m\u001b[43m \u001b[49m\u001b[43mnum_training_steps\u001b[49m\u001b[43m=\u001b[49m\u001b[43mmax_steps\u001b[49m\u001b[43m)\u001b[49m\n\u001b[32m   2324\u001b[39m \u001b[38;5;28;01mif\u001b[39;00m \u001b[38;5;129;01mnot\u001b[39;00m delay_optimizer_creation:\n\u001b[32m   2325\u001b[39m     \u001b[38;5;28mself\u001b[39m.create_optimizer_and_scheduler(num_training_steps=max_steps)\n",
      "\u001b[36mFile \u001b[39m\u001b[32m~/code/Qwen3-0.6B-from-scratch/.venv/lib/python3.12/site-packages/transformers/integrations/deepspeed.py:444\u001b[39m, in \u001b[36mdeepspeed_init\u001b[39m\u001b[34m(trainer, num_training_steps, inference)\u001b[39m\n\u001b[32m    441\u001b[39m hf_deepspeed_config = trainer.accelerator.state.deepspeed_plugin.hf_ds_config\n\u001b[32m    443\u001b[39m \u001b[38;5;66;03m# resume config update - some bits like `model` and `num_training_steps` only become available during train\u001b[39;00m\n\u001b[32m--> \u001b[39m\u001b[32m444\u001b[39m \u001b[43mhf_deepspeed_config\u001b[49m\u001b[43m.\u001b[49m\u001b[43mtrainer_config_finalize\u001b[49m\u001b[43m(\u001b[49m\u001b[43margs\u001b[49m\u001b[43m,\u001b[49m\u001b[43m \u001b[49m\u001b[43mmodel\u001b[49m\u001b[43m,\u001b[49m\u001b[43m \u001b[49m\u001b[43mnum_training_steps\u001b[49m\u001b[43m)\u001b[49m\n\u001b[32m    446\u001b[39m \u001b[38;5;66;03m# set the Deepspeed log level consistent with the Trainer\u001b[39;00m\n\u001b[32m    447\u001b[39m ds_logger.setLevel(args.get_process_log_level())\n",
      "\u001b[36mFile \u001b[39m\u001b[32m~/code/Qwen3-0.6B-from-scratch/.venv/lib/python3.12/site-packages/transformers/integrations/deepspeed.py:268\u001b[39m, in \u001b[36mHfTrainerDeepSpeedConfig.trainer_config_finalize\u001b[39m\u001b[34m(self, args, model, num_training_steps)\u001b[39m\n\u001b[32m    266\u001b[39m \u001b[38;5;28;01mif\u001b[39;00m \u001b[38;5;28mlen\u001b[39m(\u001b[38;5;28mself\u001b[39m.mismatches) > \u001b[32m0\u001b[39m:\n\u001b[32m    267\u001b[39m     mismatches = \u001b[33m\"\u001b[39m\u001b[38;5;130;01m\\n\u001b[39;00m\u001b[33m\"\u001b[39m.join(\u001b[38;5;28mself\u001b[39m.mismatches)\n\u001b[32m--> \u001b[39m\u001b[32m268\u001b[39m     \u001b[38;5;28;01mraise\u001b[39;00m \u001b[38;5;167;01mValueError\u001b[39;00m(\n\u001b[32m    269\u001b[39m         \u001b[33m\"\u001b[39m\u001b[33mPlease correct the following DeepSpeed config values that mismatch TrainingArguments\u001b[39m\u001b[33m\"\u001b[39m\n\u001b[32m    270\u001b[39m         \u001b[33mf\u001b[39m\u001b[33m\"\u001b[39m\u001b[33m values:\u001b[39m\u001b[38;5;130;01m\\n\u001b[39;00m\u001b[38;5;132;01m{\u001b[39;00mmismatches\u001b[38;5;132;01m}\u001b[39;00m\u001b[38;5;130;01m\\n\u001b[39;00m\u001b[33mThe easiest method is to set these DeepSpeed config values to \u001b[39m\u001b[33m'\u001b[39m\u001b[33mauto\u001b[39m\u001b[33m'\u001b[39m\u001b[33m.\u001b[39m\u001b[33m\"\u001b[39m\n\u001b[32m    271\u001b[39m     )\n",
      "\u001b[31mValueError\u001b[39m: Please correct the following DeepSpeed config values that mismatch TrainingArguments values:\n- ds train_micro_batch_size_per_gpu=2 vs hf per_device_train_batch_size=1\n- ds optimizer.params.betas=[0.9, 0.95] vs hf adam_beta1+adam_beta2=[0.9, 0.999]\n- ds optimizer.params.weight_decay=0.1 vs hf weight_decay=0.0\n- ds scheduler.params.warmup_num_steps=0 vs hf warmup_steps=884\nThe easiest method is to set these DeepSpeed config values to 'auto'."
     ]
    }
   ],
   "source": [
    "from swanlab.integration.transformers import SwanLabCallback\n",
    "from transformers import Trainer, TrainingArguments\n",
    "from model.modeling import MiniMindForCausalLM\n",
    "\n",
    "model = MiniMindForCausalLM(config)\n",
    "\n",
    "# --- 3. 初始化 SwanLab 回调 ---\n",
    "swanlab_callback = SwanLabCallback(\n",
    "    project=\"Qwen3-0.6B-from-scratch\",\n",
    "    experiment_name=\"Qwen3-0.6B-pretrain\",\n",
    "    description=\"Pretraining Qwen3-0.6B model\",\n",
    "    config={\n",
    "        \"model_name\": \"Qwen3-0.6B\",\n",
    "        \"dataset\": \"pretrain_hq.jsonl\",\n",
    "        \"train_size\": len(train_ds),\n",
    "    },\n",
    ")\n",
    "\n",
    "# --- 4. 设置训练参数 (替代手动的参数和deepspeed.json部分内容) ---\n",
    "training_args = TrainingArguments(\n",
    "    output_dir=\"../output/qwen3_0.6B_pretrain_checkpoint\",\n",
    "    num_train_epochs=4,  # 根据需要调整\n",
    "    per_device_train_batch_size=1,  # 根据你的显存调整\n",
    "    gradient_accumulation_steps=8,\n",
    "    learning_rate=5e-4,\n",
    "    lr_scheduler_type=\"cosine\",\n",
    "    warmup_ratio=0.01,\n",
    "    logging_steps=100,\n",
    "    save_steps=1000,\n",
    "    deepspeed=\"./configs/ds_z2_no_offload.json\", # 直接传入配置文件路径\n",
    "    bf16=True, # 或者 bf16=True\n",
    "    report_to=\"none\",\n",
    "    dataloader_num_workers=1,\n",
    ")\n",
    "\n",
    "# --- 5. 创建并运行 Trainer ---\n",
    "trainer = Trainer(\n",
    "    model=model,\n",
    "    args=training_args,\n",
    "    train_dataset=train_ds,\n",
    "    processing_class=tokenizer,\n",
    "    data_collator=data_collator,\n",
    "    callbacks=[swanlab_callback],\n",
    ")\n",
    "\n",
    "trainer.train()\n",
    "\n",
    "# --- 6. 保存最终模型 ---\n",
    "trainer.save_model(\"../output/qwen3_0.6B_final\")"
   ]
  }
 ],
 "metadata": {
  "kernelspec": {
   "display_name": "qwen3-0-6b-from-scratch",
   "language": "python",
   "name": "python3"
  },
  "language_info": {
   "codemirror_mode": {
    "name": "ipython",
    "version": 3
   },
   "file_extension": ".py",
   "mimetype": "text/x-python",
   "name": "python",
   "nbconvert_exporter": "python",
   "pygments_lexer": "ipython3",
   "version": "3.12.3"
  }
 },
 "nbformat": 4,
 "nbformat_minor": 5
}
